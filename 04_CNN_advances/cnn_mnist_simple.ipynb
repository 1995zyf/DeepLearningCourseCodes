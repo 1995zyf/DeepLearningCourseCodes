{
 "cells": [
  {
   "cell_type": "markdown",
   "metadata": {},
   "source": [
    "# 卷积神经网络示例与各层可视化"
   ]
  },
  {
   "cell_type": "code",
   "execution_count": 1,
   "metadata": {},
   "outputs": [
    {
     "name": "stdout",
     "output_type": "stream",
     "text": [
      "当前TensorFlow版本为 [1.3.0]\n",
      "所有包载入完毕\n"
     ]
    }
   ],
   "source": [
    "import os\n",
    "import numpy as np\n",
    "import matplotlib.pyplot as plt\n",
    "import tensorflow as tf\n",
    "from tensorflow.examples.tutorials.mnist import input_data\n",
    "%matplotlib inline  \n",
    "print (\"当前TensorFlow版本为 [%s]\" % (tf.__version__))\n",
    "print (\"所有包载入完毕\")"
   ]
  },
  {
   "cell_type": "markdown",
   "metadata": {},
   "source": [
    "## 载入 MNIST"
   ]
  },
  {
   "cell_type": "code",
   "execution_count": 2,
   "metadata": {},
   "outputs": [
    {
     "name": "stdout",
     "output_type": "stream",
     "text": [
      "Extracting data/train-images-idx3-ubyte.gz\n",
      "Extracting data/train-labels-idx1-ubyte.gz\n",
      "Extracting data/t10k-images-idx3-ubyte.gz\n",
      "Extracting data/t10k-labels-idx1-ubyte.gz\n",
      "MNIST ready\n"
     ]
    }
   ],
   "source": [
    "mnist = input_data.read_data_sets('data/', one_hot=True)\n",
    "trainimg   = mnist.train.images\n",
    "trainlabel = mnist.train.labels\n",
    "testimg    = mnist.test.images\n",
    "testlabel  = mnist.test.labels\n",
    "print (\"MNIST ready\")"
   ]
  },
  {
   "cell_type": "markdown",
   "metadata": {},
   "source": [
    "## 定义模型"
   ]
  },
  {
   "cell_type": "code",
   "execution_count": 3,
   "metadata": {},
   "outputs": [
    {
     "name": "stdout",
     "output_type": "stream",
     "text": [
      "NETWORK READY\n"
     ]
    }
   ],
   "source": [
    "# NETWORK TOPOLOGIES\n",
    "n_input    = 784\n",
    "n_channel  = 64 \n",
    "n_classes  = 10  \n",
    "\n",
    "# INPUTS AND OUTPUTS\n",
    "x = tf.placeholder(\"float\", [None, n_input])\n",
    "y = tf.placeholder(\"float\", [None, n_classes])\n",
    "    \n",
    "# NETWORK PARAMETERS\n",
    "stddev = 0.1\n",
    "weights = {\n",
    "    'c1': tf.Variable(tf.random_normal([7, 7, 1, n_channel], stddev=stddev)),\n",
    "    'd1': tf.Variable(tf.random_normal([14*14*64, n_classes], stddev=stddev))\n",
    "}\n",
    "biases = {\n",
    "    'c1': tf.Variable(tf.random_normal([n_channel], stddev=stddev)),\n",
    "    'd1': tf.Variable(tf.random_normal([n_classes], stddev=stddev))\n",
    "}\n",
    "print (\"NETWORK READY\")"
   ]
  },
  {
   "cell_type": "markdown",
   "metadata": {},
   "source": [
    "## 定义图结构"
   ]
  },
  {
   "cell_type": "code",
   "execution_count": 4,
   "metadata": {},
   "outputs": [
    {
     "name": "stdout",
     "output_type": "stream",
     "text": [
      "FUNCTIONS READY\n"
     ]
    }
   ],
   "source": [
    "# MODEL\n",
    "def CNN(_x, _w, _b):\n",
    "    # RESHAPE\n",
    "    _x_r = tf.reshape(_x, shape=[-1, 28, 28, 1])\n",
    "    # CONVOLUTION\n",
    "    _conv1 = tf.nn.conv2d(_x_r, _w['c1'], strides=[1, 1, 1, 1], padding='SAME')\n",
    "    # ADD BIAS\n",
    "    _conv2 = tf.nn.bias_add(_conv1, _b['c1'])\n",
    "    # RELU\n",
    "    _conv3 = tf.nn.relu(_conv2)\n",
    "    # MAX-POOL\n",
    "    _pool  = tf.nn.max_pool(_conv3, ksize=[1, 2, 2, 1], strides=[1, 2, 2, 1], padding='SAME')\n",
    "    # VECTORIZE\n",
    "    _dense = tf.reshape(_pool, [-1, _w['d1'].get_shape().as_list()[0]])\n",
    "    # DENSE\n",
    "    _logit = tf.add(tf.matmul(_dense, _w['d1']), _b['d1'])\n",
    "    _out = {\n",
    "        'x_r': _x_r, 'conv1': _conv1, 'conv2': _conv2, 'conv3': _conv3\n",
    "        , 'pool': _pool, 'dense': _dense, 'logit': _logit\n",
    "    }\n",
    "    return _out\n",
    "\n",
    "# PREDICTION\n",
    "cnnout = CNN(x, weights, biases)\n",
    "\n",
    "# LOSS AND OPTIMIZER\n",
    "cost = tf.reduce_mean(tf.nn.softmax_cross_entropy_with_logits(\n",
    "        labels=y, logits=cnnout['logit']))\n",
    "optm = tf.train.AdamOptimizer(learning_rate=0.001).minimize(cost) \n",
    "corr = tf.equal(tf.argmax(cnnout['logit'], 1), tf.argmax(y, 1))    \n",
    "accr = tf.reduce_mean(tf.cast(corr, \"float\"))\n",
    "\n",
    "# INITIALIZER\n",
    "init = tf.global_variables_initializer()\n",
    "print (\"FUNCTIONS READY\")"
   ]
  },
  {
   "cell_type": "markdown",
   "metadata": {},
   "source": [
    "## 存储"
   ]
  },
  {
   "cell_type": "code",
   "execution_count": null,
   "metadata": {},
   "outputs": [
    {
     "name": "stdout",
     "output_type": "stream",
     "text": [
      "SAVER READY\n"
     ]
    }
   ],
   "source": [
    "savedir = \"nets/cnn_mnist_simple/\"\n",
    "saver = tf.train.Saver(max_to_keep=3)\n",
    "save_step = 4\n",
    "if not os.path.exists(savedir):\n",
    "    os.makedirs(savedir)\n",
    "print (\"SAVER READY\")"
   ]
  },
  {
   "cell_type": "markdown",
   "metadata": {},
   "source": [
    "## 运行"
   ]
  },
  {
   "cell_type": "code",
   "execution_count": null,
   "metadata": {
    "collapsed": true,
    "scrolled": true
   },
   "outputs": [],
   "source": [
    "# PARAMETERS\n",
    "training_epochs = 20\n",
    "batch_size      = 100\n",
    "display_step    = 4\n",
    "# LAUNCH THE GRAPH\n",
    "sess = tf.Session()\n",
    "sess.run(init)\n",
    "# OPTIMIZE\n",
    "for epoch in range(training_epochs):\n",
    "    avg_cost = 0.\n",
    "    total_batch = int(mnist.train.num_examples/batch_size)\n",
    "    # ITERATION\n",
    "    for i in range(total_batch):\n",
    "        batch_xs, batch_ys = mnist.train.next_batch(batch_size)\n",
    "        feeds = {x: batch_xs, y: batch_ys}\n",
    "        sess.run(optm, feed_dict=feeds)\n",
    "        avg_cost += sess.run(cost, feed_dict=feeds)\n",
    "    avg_cost = avg_cost / total_batch\n",
    "    # DISPLAY\n",
    "    if (epoch+1) % display_step == 0:\n",
    "        print (\"Epoch: %03d/%03d cost: %.9f\" % (epoch+1, training_epochs, avg_cost))\n",
    "        feeds = {x: batch_xs, y: batch_ys}\n",
    "        train_acc = sess.run(accr, feed_dict=feeds)\n",
    "        print (\"TRAIN ACCURACY: %.3f\" % (train_acc))\n",
    "        feeds = {x: mnist.test.images, y: mnist.test.labels}\n",
    "        test_acc = sess.run(accr, feed_dict=feeds)\n",
    "        print (\"TEST ACCURACY: %.3f\" % (test_acc))\n",
    "    # SAVE\n",
    "    if (epoch+1) % save_step == 0:\n",
    "        savename = savedir+\"net-\"+str(epoch+1)+\".ckpt\"\n",
    "        saver.save(sess, savename)\n",
    "        print (\"[%s] SAVED.\" % (savename))\n",
    "print (\"OPTIMIZATION FINISHED\")"
   ]
  },
  {
   "cell_type": "markdown",
   "metadata": {},
   "source": [
    "## 恢复"
   ]
  },
  {
   "cell_type": "code",
   "execution_count": null,
   "metadata": {
    "collapsed": true
   },
   "outputs": [],
   "source": [
    "do_restore = 0\n",
    "if do_restore == 1:\n",
    "    sess = tf.Session()\n",
    "    epoch = 20\n",
    "    savename = savedir+\"net-\"+str(epoch)+\".ckpt\"\n",
    "    saver.restore(sess, savename)\n",
    "    print (\"NETWORK RESTORED\")\n",
    "else:\n",
    "    print (\"DO NOTHING\")"
   ]
  },
  {
   "cell_type": "markdown",
   "metadata": {},
   "source": [
    "## CNN如何工作"
   ]
  },
  {
   "cell_type": "code",
   "execution_count": null,
   "metadata": {
    "collapsed": true
   },
   "outputs": [],
   "source": [
    "input_r = sess.run(cnnout['x_r'], feed_dict={x: trainimg[0:1, :]})\n",
    "conv1   = sess.run(cnnout['conv1'], feed_dict={x: trainimg[0:1, :]})\n",
    "conv2   = sess.run(cnnout['conv2'], feed_dict={x: trainimg[0:1, :]})\n",
    "conv3   = sess.run(cnnout['conv3'], feed_dict={x: trainimg[0:1, :]})\n",
    "pool    = sess.run(cnnout['pool'], feed_dict={x: trainimg[0:1, :]})\n",
    "dense   = sess.run(cnnout['dense'], feed_dict={x: trainimg[0:1, :]})\n",
    "out     = sess.run(cnnout['logit'], feed_dict={x: trainimg[0:1, :]}) "
   ]
  },
  {
   "cell_type": "markdown",
   "metadata": {},
   "source": [
    "## 输入"
   ]
  },
  {
   "cell_type": "code",
   "execution_count": null,
   "metadata": {
    "collapsed": true
   },
   "outputs": [],
   "source": [
    "print (\"Size of 'input_r' is %s\" % (input_r.shape,))\n",
    "label = np.argmax(trainlabel[0, :])\n",
    "print (\"Label is %d\" % (label))\n",
    "\n",
    "# PLOT\n",
    "plt.matshow(input_r[0, :, :, 0], cmap=plt.get_cmap('gray'))\n",
    "plt.title(\"Label of this image is \" + str(label) + \"\")\n",
    "plt.colorbar()\n",
    "plt.show()"
   ]
  },
  {
   "cell_type": "markdown",
   "metadata": {},
   "source": [
    "# CONV 卷积层"
   ]
  },
  {
   "cell_type": "code",
   "execution_count": null,
   "metadata": {
    "collapsed": true
   },
   "outputs": [],
   "source": [
    "print (\"SIZE OF 'CONV1' IS %s\" % (conv1.shape,))\n",
    "for i in range(3):\n",
    "    plt.matshow(conv1[0, :, :, i], cmap=plt.get_cmap('gray'))\n",
    "    plt.title(str(i) + \"th conv1\")\n",
    "    plt.colorbar()\n",
    "    plt.show()"
   ]
  },
  {
   "cell_type": "markdown",
   "metadata": {},
   "source": [
    "## CONV + BIAS"
   ]
  },
  {
   "cell_type": "code",
   "execution_count": null,
   "metadata": {
    "collapsed": true
   },
   "outputs": [],
   "source": [
    "print (\"SIZE OF 'CONV2' IS %s\" % (conv2.shape,))\n",
    "for i in range(3):\n",
    "    plt.matshow(conv2[0, :, :, i], cmap=plt.get_cmap('gray'))\n",
    "    plt.title(str(i) + \"th conv2\")\n",
    "    plt.colorbar()\n",
    "    plt.show()"
   ]
  },
  {
   "cell_type": "markdown",
   "metadata": {},
   "source": [
    "## CONV + BIAS + RELU"
   ]
  },
  {
   "cell_type": "code",
   "execution_count": null,
   "metadata": {
    "collapsed": true
   },
   "outputs": [],
   "source": [
    "print (\"SIZE OF 'CONV3' IS %s\" % (conv3.shape,))\n",
    "for i in range(3):\n",
    "    plt.matshow(conv3[0, :, :, i], cmap=plt.get_cmap('gray'))\n",
    "    plt.title(str(i) + \"th conv3\")\n",
    "    plt.colorbar()\n",
    "    plt.show()"
   ]
  },
  {
   "cell_type": "markdown",
   "metadata": {},
   "source": [
    "## POOL"
   ]
  },
  {
   "cell_type": "code",
   "execution_count": null,
   "metadata": {
    "collapsed": true
   },
   "outputs": [],
   "source": [
    "print (\"SIZE OF 'POOL' IS %s\" % (pool.shape,))\n",
    "for i in range(3):\n",
    "    plt.matshow(pool[0, :, :, i], cmap=plt.get_cmap('gray'))\n",
    "    plt.title(str(i) + \"th pool\")\n",
    "    plt.colorbar()\n",
    "    plt.show()"
   ]
  },
  {
   "cell_type": "markdown",
   "metadata": {},
   "source": [
    "## DENSE"
   ]
  },
  {
   "cell_type": "code",
   "execution_count": null,
   "metadata": {
    "collapsed": true
   },
   "outputs": [],
   "source": [
    "print (\"SIZE OF 'DENSE' IS %s\" % (dense.shape,))\n",
    "print (\"SIZE OF 'OUT' IS %s\" % (out.shape,))\n",
    "plt.matshow(out, cmap=plt.get_cmap('gray'))\n",
    "plt.title(\"OUT\")\n",
    "plt.colorbar()\n",
    "plt.show()"
   ]
  },
  {
   "cell_type": "markdown",
   "metadata": {},
   "source": [
    "## CONVOLUTION FILTER 卷积核"
   ]
  },
  {
   "cell_type": "code",
   "execution_count": null,
   "metadata": {
    "collapsed": true
   },
   "outputs": [],
   "source": [
    "wc1 = sess.run(weights['c1'])\n",
    "print (\"SIZE OF 'WC1' IS %s\" % (wc1.shape,))\n",
    "for i in range(3):\n",
    "    plt.matshow(wc1[:, :, 0, i], cmap=plt.get_cmap('gray'))\n",
    "    plt.title(str(i) + \"th conv filter\")\n",
    "    plt.colorbar()\n",
    "    plt.show()"
   ]
  }
 ],
 "metadata": {
  "kernelspec": {
   "display_name": "Python 2",
   "language": "python",
   "name": "python2"
  },
  "language_info": {
   "codemirror_mode": {
    "name": "ipython",
    "version": 2
   },
   "file_extension": ".py",
   "mimetype": "text/x-python",
   "name": "python",
   "nbconvert_exporter": "python",
   "pygments_lexer": "ipython2",
   "version": "2.7.13"
  }
 },
 "nbformat": 4,
 "nbformat_minor": 1
}
